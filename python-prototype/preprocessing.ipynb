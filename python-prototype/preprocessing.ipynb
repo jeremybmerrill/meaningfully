{
 "cells": [
  {
   "cell_type": "code",
   "execution_count": 2,
   "id": "224cffb7-3f4d-4a4f-a01e-09ab36b2edc0",
   "metadata": {},
   "outputs": [],
   "source": [
    "import pandas as pd"
   ]
  },
  {
   "cell_type": "markdown",
   "id": "53658eff-23be-4bf3-8049-a036039262fc",
   "metadata": {},
   "source": [
    "I need a sample dataset where the text is paragraph-length."
   ]
  },
  {
   "cell_type": "code",
   "execution_count": 11,
   "id": "6ec2b24c-afe4-4a47-898d-d873df7e4444",
   "metadata": {},
   "outputs": [
    {
     "data": {
      "text/html": [
       "<div>\n",
       "<style scoped>\n",
       "    .dataframe tbody tr th:only-of-type {\n",
       "        vertical-align: middle;\n",
       "    }\n",
       "\n",
       "    .dataframe tbody tr th {\n",
       "        vertical-align: top;\n",
       "    }\n",
       "\n",
       "    .dataframe thead th {\n",
       "        text-align: right;\n",
       "    }\n",
       "</style>\n",
       "<table border=\"1\" class=\"dataframe\">\n",
       "  <thead>\n",
       "    <tr style=\"text-align: right;\">\n",
       "      <th></th>\n",
       "      <th>paragraph</th>\n",
       "    </tr>\n",
       "  </thead>\n",
       "  <tbody>\n",
       "    <tr>\n",
       "      <th>1825</th>\n",
       "      <td>After taking into account liabilities recognized for all of the foregoing matters, management believes the ultimate resolution of such matters should not have a material adverse effect on our financial condition, results of operations, or liquidity; however, it is reasonably possible that a change of the estimates of any of the foregoing matters may occur in the future that could have a material adverse effect on our financial condition, results of operations, or liquidity.</td>\n",
       "    </tr>\n",
       "    <tr>\n",
       "      <th>2577</th>\n",
       "      <td>REGENCY CENTERS CORPORATION            January 18, 2024        By:    /s/ Michael R. Herman               Michael R. Herman, Senior Vice President General Counsel and Corporate Secretary                  REGENCY CENTERS, L.P.                  By: Regency Centers Corporation, its general partner            January 18, 2024        By:    /s/ Michael R. Herman               Michael R. Herman, Senior Vice President General Counsel and Corporate Secretary</td>\n",
       "    </tr>\n",
       "    <tr>\n",
       "      <th>451</th>\n",
       "      <td>Quarter 2023  and (ii) \\$6.8 million of favorable product mix, driven by consumer-led premiumization. The decrease in branded wine and spirits shipment volume is attributable to our U.S. wholesale market, primarily driven by declines in both the overall wine market and in our lower-end brands. Additionally, the impact from pricing remained relatively flat as lower contractual distributor payments as compared to Third Quarter 2023 were largely offset by favorable pricing actions.</td>\n",
       "    </tr>\n",
       "    <tr>\n",
       "      <th>1363</th>\n",
       "      <td>JPMorgan Chase &amp; Co. elected Mark Weinberger as a director, effective January 16, 2024, and the Board of Directors appointed him as a member of the Audit Committee.  Mr. Weinberger was Global Chairman and Chief Executive Officer of Ernst &amp; Young from 2013 to 2019.  He was also elected a director of JPMorgan Chase Bank, N.A. and a manager of JPMorgan Chase Holdings LLC, and may be elected a director of such other subsidiary or subsidiaries as may be determined from time to time.</td>\n",
       "    </tr>\n",
       "    <tr>\n",
       "      <th>2427</th>\n",
       "      <td>On December 20, 2023, we issued a press release announcing that we had moved our Cell Analysis Division into the Diagnostics and Genomics Group (DGG) business segment from the Life Sciences and Applied Markets Group  (LSAG) business segment to further strengthen growth opportunities for both organizations.  Following this reorganization, we will continue to have three business segments (LSAG, DGG and Agilent CrossLab), each of which will continue to comprise a reportable segment.</td>\n",
       "    </tr>\n",
       "    <tr>\n",
       "      <th>...</th>\n",
       "      <td>...</td>\n",
       "    </tr>\n",
       "    <tr>\n",
       "      <th>376</th>\n",
       "      <td>We evaluated the Canopy Equity Method Investment as of May 31, 2023, and determined there was an other-than-temporary impairment. Our conclusion was based on several contributing factors, including: (i) the fair value being less than the carrying value and the uncertainty surrounding Canopy’s stock price recovering in the near-term, (ii) Canopy recorded significant costs in its fourth quarter of fiscal 2023 results designed to align its Canadian cannabis operations and resources in response ...</td>\n",
       "    </tr>\n",
       "    <tr>\n",
       "      <th>1101</th>\n",
       "      <td>(in millions)      3.950% Senior Notes    3.600% Senior Notes    3.000% Senior Notes    1.700% Senior Notes    4.250% Senior Notes    5.450% Senior Notes    Borrowings under revolving credit facilities (1)        Borrowings  under  loans    Total notes  payable  and  credit  facilities   Balance as of August 31, 2023      \\$  497      \\$  496      \\$  593      \\$  498      \\...</td>\n",
       "    </tr>\n",
       "    <tr>\n",
       "      <th>2245</th>\n",
       "      <td>The statements in this Form 8-K relating to matters that are not historical facts are forward-looking statements. These forward-looking statements are based upon assumptions of management which are believed to be reasonable at the time made and are subject to significant risks and uncertainties. Actual results could differ materially from the projections, anticipated results, or other expectations expressed in this Form 8-K, including, but not limited to, receipt of required regulatory appro...</td>\n",
       "    </tr>\n",
       "    <tr>\n",
       "      <th>1465</th>\n",
       "      <td>Thirteen Weeks Ended     Twenty-Six Weeks Ended       November 26, 2023     November 27, 2022     November 26, 2023     November 27, 2022     Net sales   \\$ 3,208.1   \\$ 3,312.9   \\$ 6,112.1   \\$ 6,217.2    Costs and expenses:                    Cost of goods sold    2,361.5    2,390.6    4,442.4    4,574.6    Selling, general and administrative expenses    398.1    372.7    732.2    1,114.3    Pension and postretirement non-service expense (income)    0.4    ( 6.1 )   0.7    ( 12.2 )   I...</td>\n",
       "    </tr>\n",
       "    <tr>\n",
       "      <th>1358</th>\n",
       "      <td>Title of each class Trading Symbol(s) Name of each exchange on which registered Common stock JPM The New York Stock Exchange Depositary Shares, each representing a one-four hundredth interest in a share of 5.75% Non-Cumulative Preferred Stock, Series DD JPM PR D The New York Stock Exchange Depositary Shares, each representing a one-four hundredth interest in a share of 6.00% Non-Cumulative Preferred Stock, Series EE JPM PR C The New York Stock Exchange Depositary Shares, each repres...</td>\n",
       "    </tr>\n",
       "  </tbody>\n",
       "</table>\n",
       "<p>250 rows × 1 columns</p>\n",
       "</div>"
      ],
      "text/plain": [
       "                                                                                                                                                                                                                                                                                                                                                                                                                                                                                                                paragraph\n",
       "1825                       After taking into account liabilities recognized for all of the foregoing matters, management believes the ultimate resolution of such matters should not have a material adverse effect on our financial condition, results of operations, or liquidity; however, it is reasonably possible that a change of the estimates of any of the foregoing matters may occur in the future that could have a material adverse effect on our financial condition, results of operations, or liquidity.\n",
       "2577                                               REGENCY CENTERS CORPORATION            January 18, 2024        By:    /s/ Michael R. Herman               Michael R. Herman, Senior Vice President General Counsel and Corporate Secretary                  REGENCY CENTERS, L.P.                  By: Regency Centers Corporation, its general partner            January 18, 2024        By:    /s/ Michael R. Herman               Michael R. Herman, Senior Vice President General Counsel and Corporate Secretary\n",
       "451                   Quarter 2023  and (ii) \\$6.8 million of favorable product mix, driven by consumer-led premiumization. The decrease in branded wine and spirits shipment volume is attributable to our U.S. wholesale market, primarily driven by declines in both the overall wine market and in our lower-end brands. Additionally, the impact from pricing remained relatively flat as lower contractual distributor payments as compared to Third Quarter 2023 were largely offset by favorable pricing actions.\n",
       "1363                   JPMorgan Chase & Co. elected Mark Weinberger as a director, effective January 16, 2024, and the Board of Directors appointed him as a member of the Audit Committee.  Mr. Weinberger was Global Chairman and Chief Executive Officer of Ernst & Young from 2013 to 2019.  He was also elected a director of JPMorgan Chase Bank, N.A. and a manager of JPMorgan Chase Holdings LLC, and may be elected a director of such other subsidiary or subsidiaries as may be determined from time to time.\n",
       "2427                 On December 20, 2023, we issued a press release announcing that we had moved our Cell Analysis Division into the Diagnostics and Genomics Group (DGG) business segment from the Life Sciences and Applied Markets Group  (LSAG) business segment to further strengthen growth opportunities for both organizations.  Following this reorganization, we will continue to have three business segments (LSAG, DGG and Agilent CrossLab), each of which will continue to comprise a reportable segment.\n",
       "...                                                                                                                                                                                                                                                                                                                                                                                                                                                                                                                   ...\n",
       "376   We evaluated the Canopy Equity Method Investment as of May 31, 2023, and determined there was an other-than-temporary impairment. Our conclusion was based on several contributing factors, including: (i) the fair value being less than the carrying value and the uncertainty surrounding Canopy’s stock price recovering in the near-term, (ii) Canopy recorded significant costs in its fourth quarter of fiscal 2023 results designed to align its Canadian cannabis operations and resources in response ...\n",
       "1101                                                                                                                         (in millions)      3.950% Senior Notes    3.600% Senior Notes    3.000% Senior Notes    1.700% Senior Notes    4.250% Senior Notes    5.450% Senior Notes    Borrowings under revolving credit facilities (1)        Borrowings  under  loans    Total notes  payable  and  credit  facilities   Balance as of August 31, 2023      \\$  497      \\$  496      \\$  593      \\$  498      \\...\n",
       "2245  The statements in this Form 8-K relating to matters that are not historical facts are forward-looking statements. These forward-looking statements are based upon assumptions of management which are believed to be reasonable at the time made and are subject to significant risks and uncertainties. Actual results could differ materially from the projections, anticipated results, or other expectations expressed in this Form 8-K, including, but not limited to, receipt of required regulatory appro...\n",
       "1465     Thirteen Weeks Ended     Twenty-Six Weeks Ended       November 26, 2023     November 27, 2022     November 26, 2023     November 27, 2022     Net sales   \\$ 3,208.1   \\$ 3,312.9   \\$ 6,112.1   \\$ 6,217.2    Costs and expenses:                    Cost of goods sold    2,361.5    2,390.6    4,442.4    4,574.6    Selling, general and administrative expenses    398.1    372.7    732.2    1,114.3    Pension and postretirement non-service expense (income)    0.4    ( 6.1 )   0.7    ( 12.2 )   I...\n",
       "1358           Title of each class Trading Symbol(s) Name of each exchange on which registered Common stock JPM The New York Stock Exchange Depositary Shares, each representing a one-four hundredth interest in a share of 5.75% Non-Cumulative Preferred Stock, Series DD JPM PR D The New York Stock Exchange Depositary Shares, each representing a one-four hundredth interest in a share of 6.00% Non-Cumulative Preferred Stock, Series EE JPM PR C The New York Stock Exchange Depositary Shares, each repres...\n",
       "\n",
       "[250 rows x 1 columns]"
      ]
     },
     "metadata": {},
     "output_type": "display_data"
    }
   ],
   "source": [
    "sec_df = pd.read_csv(\"/Users/jeremybmerrill/Downloads/sec filings document analysis gold handcoding - paragraphs_to_be_gold_classified.csv\")\n",
    "sec_df[\"text_len\"] = sec_df.paragraph.str.len()\n",
    "sec_df[\"paragraph\"] = sec_df[\"paragraph\"].str.replace(\"$\", \"\\$\")\n",
    "sec_df[\"pct_numbers\"] = (sec_df.paragraph.str.len() - sec_df.paragraph.str.replace(r\"\\d+\", '', regex=True).str.len()) / sec_df.paragraph.str.len()\n",
    "with pd.option_context('display.max_colwidth', 500):\n",
    "    display(sec_df.sort_values(\"text_len\").tail(300).head(250)[[\"paragraph\"]])"
   ]
  },
  {
   "cell_type": "code",
   "execution_count": 13,
   "id": "cd60fda8-1f81-426a-88f4-c0967d077d8d",
   "metadata": {},
   "outputs": [],
   "source": [
    "paragraphs = sec_df.sort_values(\"text_len\").tail(300).head(250)\n",
    "paragraphs = paragraphs[paragraphs.pct_numbers < 0.05]\n",
    "paragraphs.to_csv(\"../sample-data/constellation-10q.csv\")"
   ]
  },
  {
   "cell_type": "code",
   "execution_count": null,
   "id": "249d2065-2fdc-43ce-be41-a92bf35ebfa7",
   "metadata": {},
   "outputs": [],
   "source": []
  }
 ],
 "metadata": {
  "kernelspec": {
   "display_name": "meaningfully",
   "language": "python",
   "name": "meaningfully"
  },
  "language_info": {
   "codemirror_mode": {
    "name": "ipython",
    "version": 3
   },
   "file_extension": ".py",
   "mimetype": "text/x-python",
   "name": "python",
   "nbconvert_exporter": "python",
   "pygments_lexer": "ipython3",
   "version": "3.11.2"
  }
 },
 "nbformat": 4,
 "nbformat_minor": 5
}
