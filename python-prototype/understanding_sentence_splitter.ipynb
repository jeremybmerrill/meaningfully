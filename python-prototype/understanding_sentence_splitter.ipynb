{
 "cells": [
  {
   "cell_type": "code",
   "execution_count": 21,
   "id": "464c2d63-0226-485e-9371-9207e5b50b2b",
   "metadata": {},
   "outputs": [],
   "source": [
    "from llama_index.core import Document\n",
    "from llama_index.embeddings.openai import OpenAIEmbedding\n",
    "# from non_stupid_sentence_splitter import SentenceSplitter\n",
    "# I'm not sure what sentence splitter does, but it's way weird.\n",
    "# SentenceWindowNodeParser is a lot more logical\n",
    "# though it would be nice if it used Spacy or something smarter to split sentences\n",
    "from llama_index.core.extractors import TitleExtractor\n",
    "from llama_index.core.ingestion import IngestionPipeline, IngestionCache\n",
    "from llama_index.core.node_parser import SentenceWindowNodeParser"
   ]
  },
  {
   "cell_type": "code",
   "execution_count": 14,
   "id": "beb01188-7bb2-4753-ab43-c4eb9ec243bf",
   "metadata": {},
   "outputs": [],
   "source": [
    "text = \"\"\"\n",
    "The order plainly violates the Constitution and seeks to overturn crystal-clear Supreme Court\n",
    "precedent. In those affirmations of the principle that anyone born in this country is \n",
    "automatically a citizen, race was the central issue — a fact that Trump and his advisers must\n",
    "know. This history makes Trump’s order an act of performative racism that tells us, quite \n",
    "clearly, what kind of U.S.-born Americans he wants to exclude.\n",
    "\n",
    "The saga begins before the Civil War with the Supreme Court’s infamous Dred Scott v. Sandford\n",
    "decision in 1857, which denied citizenship to people of African descent even if they were not\n",
    "enslaved. “A free negro of the African race, whose ancestors were brought to this country and\n",
    "sold as slaves, is not a ‘citizen’ within the meaning of the Constitution of the United \n",
    "States,” the ruling held.\n",
    "\n",
    "After the war, the race-based Dred Scott theory of citizenship was overturned by the very \n",
    "first sentence of the 14th Amendment, ratified in 1868: “All persons born or naturalized in \n",
    "the United States, and subject to the jurisdiction thereof, are citizens of the United States \n",
    "and of the State wherein they reside.” The whole point was race: Black people born here have \n",
    "the same status, and the same rights, as White people.\n",
    "\"\"\"\n",
    "# text = \"\"\"\n",
    "# New York City Council Members Want to Dial Down Sirens https://t.co/tQDZAaA2hh\n",
    "# \"\"\"\n"
   ]
  },
  {
   "cell_type": "code",
   "execution_count": null,
   "id": "f236d2d8-5ee7-45c6-aba1-0825298273d2",
   "metadata": {},
   "outputs": [],
   "source": []
  },
  {
   "cell_type": "code",
   "execution_count": 26,
   "id": "08fbe65d-4c78-43ad-8f3b-9719378b08c8",
   "metadata": {},
   "outputs": [],
   "source": [
    "documents = [Document(text=text, metadata={\n",
    "    \"id_\": \"adsfsdf\", \n",
    "    \"asdfasdfasdfasd\": \"asdfasdfasdf\", \n",
    "    \"asdfasdfasdfads\": \"asdfasdfasdfasdfda\",\n",
    "    \"asdfasdfasdfads3\": \"asdfasdfasdfasdfda\",\n",
    "    # \"asdfasdfasdfads34\": \"asdfasdfasdfasdfda\",\n",
    "    # \"asdfasdfasdfads5\": \"asdfasdfasdfasdfda\",\n",
    "    # \"asdfasdfasdfads6\": \"asdfasdfasdfasdfda\",\n",
    "    # \"asdfasdfasdfads7\": \"asdfasdfasdfasdfda\"\n",
    "    \n",
    "})]\n"
   ]
  },
  {
   "cell_type": "code",
   "execution_count": null,
   "id": "e564ba8b-ec41-43b6-b042-43d0bf6bc297",
   "metadata": {},
   "outputs": [],
   "source": []
  },
  {
   "cell_type": "code",
   "execution_count": 16,
   "id": "9ec3353a-9a73-4283-885a-d5a0a8f3928d",
   "metadata": {},
   "outputs": [
    {
     "data": {
      "text/plain": [
       "SentenceSplitter(include_metadata=True, include_prev_next_rel=True, callback_manager=<llama_index.core.callbacks.base.CallbackManager object at 0x116cefc50>, id_func=<function default_id_func at 0x10cec6a20>, chunk_size=50, chunk_overlap=10, separator=' ', paragraph_separator='\\n\\n\\n', secondary_chunking_regex='[^,.;。？！]+[,.;。？！]?', include_metadata_in_chunksize=False)"
      ]
     },
     "execution_count": 16,
     "metadata": {},
     "output_type": "execute_result"
    }
   ],
   "source": [
    "splitter = SentenceSplitter(chunk_size=50, chunk_overlap=10, include_metadata_in_chunksize=False)\n",
    "splitter"
   ]
  },
  {
   "cell_type": "code",
   "execution_count": 17,
   "id": "157e647f-5acb-4f27-8096-9cb30039f987",
   "metadata": {},
   "outputs": [
    {
     "data": {
      "text/plain": [
       "'splitter thinks text has 274 tokens; naively it has 202 words'"
      ]
     },
     "execution_count": 17,
     "metadata": {},
     "output_type": "execute_result"
    }
   ],
   "source": [
    "\"splitter thinks text has {} tokens; naively it has {} words\".format(\n",
    "    splitter._token_size(text),\n",
    "    text.count(\" \") + 1,    \n",
    ")\n",
    "\n"
   ]
  },
  {
   "cell_type": "code",
   "execution_count": 18,
   "id": "68253347-316a-46a5-b360-93db703fbab0",
   "metadata": {},
   "outputs": [],
   "source": [
    "nodes = splitter(documents)"
   ]
  },
  {
   "cell_type": "code",
   "execution_count": 19,
   "id": "c867c910-b6bf-448a-9771-e1d64edb88b2",
   "metadata": {},
   "outputs": [
    {
     "name": "stdout",
     "output_type": "stream",
     "text": [
      "N nodes: 7\n",
      "\n",
      "\n",
      "The order plainly violates the Constitution and seeks to overturn crystal-clear Supreme Court\n",
      "precedent.\n",
      "18\n",
      "\n",
      "\n",
      "In those affirmations of the principle that anyone born in this country is \n",
      "automatically a citizen, race was the central issue — a fact that Trump and his advisers must\n",
      "know.\n",
      "37\n",
      "\n",
      "\n",
      "This history makes Trump’s order an act of performative racism that tells us, quite \n",
      "clearly, what kind of U.S.-born Americans he wants to exclude.\n",
      "34\n",
      "\n",
      "\n",
      "The saga begins before the Civil War with the Supreme Court’s infamous Dred Scott v. Sandford\n",
      "decision in 1857, which denied citizenship to people of African descent even if they were not\n",
      "enslaved.\n",
      "45\n",
      "\n",
      "\n",
      "“A free negro of the African race, whose ancestors were brought to this country and\n",
      "sold as slaves, is not a ‘citizen’ within the meaning of the Constitution of the United \n",
      "States,” the ruling held.\n",
      "\n",
      "After the war,\n",
      "48\n",
      "\n",
      "\n",
      "After the war, the race-based Dred Scott theory of citizenship was overturned by the very \n",
      "first sentence of the 14th Amendment, ratified in 1868: “All persons born or naturalized in \n",
      "the United States,\n",
      "47\n",
      "\n",
      "\n",
      "and subject to the jurisdiction thereof, are citizens of the United States \n",
      "and of the State wherein they reside.” The whole point was race: Black people born here have \n",
      "the same status, and the same rights, as White people.\n",
      "47\n",
      "\n",
      "\n"
     ]
    }
   ],
   "source": [
    "# just for lookin'\n",
    "\n",
    "print(\"N nodes: {}\\n\\n\".format(len(nodes)))\n",
    "\n",
    "# just for lookin'\n",
    "\n",
    "for node in nodes[:10]:\n",
    "    print(node.text)\n",
    "    print(splitter._token_size(node.text))\n",
    "    print(\"\\n\")"
   ]
  },
  {
   "cell_type": "code",
   "execution_count": 13,
   "id": "e1707bf4-3fcc-4456-a5eb-9b4c027b4a93",
   "metadata": {},
   "outputs": [
    {
     "data": {
      "text/plain": [
       "TextNode(id_='3fae55f7-8f06-46dc-9763-3d212a931e8a', embedding=None, metadata={'asdfsdf': 'adsfsdf', 'asdfasdfasdfasd': 'asdfasdfasdf', 'asdfasdfasdfads': 'asdfasdfasdfasdfda', 'asdfasdfasdfads3': 'asdfasdfasdfasdfda'}, excluded_embed_metadata_keys=[], excluded_llm_metadata_keys=[], relationships={<NodeRelationship.SOURCE: '1'>: RelatedNodeInfo(node_id='a30f9e94-8c2c-4cee-bd07-527c5aa9c5bd', node_type=<ObjectType.DOCUMENT: '4'>, metadata={'asdfsdf': 'adsfsdf', 'asdfasdfasdfasd': 'asdfasdfasdf', 'asdfasdfasdfads': 'asdfasdfasdfasdfda', 'asdfasdfasdfads3': 'asdfasdfasdfasdfda'}, hash='3e2392b1e9200158f2c4b7bea1d1b15d75d698259eb07cd420fbdcf7ada209bf')}, metadata_template='{key}: {value}', metadata_separator='\\n', text='New York City Council Members Want to Dial Down Sirens https://t.co/tQDZAaA2hh', mimetype='text/plain', start_char_idx=0, end_char_idx=78, metadata_seperator='\\n', text_template='{metadata_str}\\n\\n{content}')"
      ]
     },
     "execution_count": 13,
     "metadata": {},
     "output_type": "execute_result"
    }
   ],
   "source": [
    "nodes[0]"
   ]
  },
  {
   "cell_type": "code",
   "execution_count": 75,
   "id": "df5e059f-38ba-4c36-a66e-0fc70d4a3573",
   "metadata": {},
   "outputs": [
    {
     "name": "stdout",
     "output_type": "stream",
     "text": [
      "The order plainly violates the Constitution and seeks to overturn crystal-clear Supreme Court\n",
      "precedent. \n"
     ]
    },
    {
     "data": {
      "text/plain": [
       "'In those affirmations of the principle that anyone born in this country is \\nautomatically a citizen, race was the central issue — a fact that Trump and his advisers must\\nknow. '"
      ]
     },
     "execution_count": 75,
     "metadata": {},
     "output_type": "execute_result"
    }
   ],
   "source": [
    "from llama_index.core.schema import TransformComponent, NodeRelationship\n",
    "windower = SentenceWindowNodeParser()\n",
    "nodes = windower.get_nodes_from_documents(documents)\n",
    "print(nodes[0].text)\n",
    "nodes[0].relationships[NodeRelationship.NEXT].metadata[\"original_text\"]"
   ]
  },
  {
   "cell_type": "code",
   "execution_count": 62,
   "id": "3a99faf4-0a24-469f-aff0-bac034667bdc",
   "metadata": {},
   "outputs": [
    {
     "name": "stdout",
     "output_type": "stream",
     "text": [
      "N nodes: 6\n",
      "\n",
      "\n",
      "The order plainly violates the Constitution and seeks to overturn crystal-clear Supreme Court\n",
      "precedent. \n",
      "The order plainly violates the Constitution and seeks to overturn crystal-clear Supreme Court\n",
      "precedent.  In those affirmations of the principle that anyone born in this country is \n",
      "automatically a citizen, race was the central issue — a fact that Trump and his advisers must\n",
      "know.  This history makes Trump’s order an act of performative racism that tells us, quite \n",
      "clearly, what kind of U.S.-born Americans he wants to exclude.\n",
      "\n",
      " The saga begins before the Civil War with the Supreme Court’s infamous Dred Scott v. Sandford\n",
      "decision in 1857, which denied citizenship to people of African descent even if they were not\n",
      "enslaved. \n",
      "19\n",
      "\n",
      "\n",
      "In those affirmations of the principle that anyone born in this country is \n",
      "automatically a citizen, race was the central issue — a fact that Trump and his advisers must\n",
      "know. \n",
      "The order plainly violates the Constitution and seeks to overturn crystal-clear Supreme Court\n",
      "precedent.  In those affirmations of the principle that anyone born in this country is \n",
      "automatically a citizen, race was the central issue — a fact that Trump and his advisers must\n",
      "know.  This history makes Trump’s order an act of performative racism that tells us, quite \n",
      "clearly, what kind of U.S.-born Americans he wants to exclude.\n",
      "\n",
      " The saga begins before the Civil War with the Supreme Court’s infamous Dred Scott v. Sandford\n",
      "decision in 1857, which denied citizenship to people of African descent even if they were not\n",
      "enslaved.  “A free negro of the African race, whose ancestors were brought to this country and\n",
      "sold as slaves, is not a ‘citizen’ within the meaning of the Constitution of the United \n",
      "States,” the ruling held.\n",
      "\n",
      "\n",
      "38\n",
      "\n",
      "\n",
      "This history makes Trump’s order an act of performative racism that tells us, quite \n",
      "clearly, what kind of U.S.-born Americans he wants to exclude.\n",
      "\n",
      "\n",
      "The order plainly violates the Constitution and seeks to overturn crystal-clear Supreme Court\n",
      "precedent.  In those affirmations of the principle that anyone born in this country is \n",
      "automatically a citizen, race was the central issue — a fact that Trump and his advisers must\n",
      "know.  This history makes Trump’s order an act of performative racism that tells us, quite \n",
      "clearly, what kind of U.S.-born Americans he wants to exclude.\n",
      "\n",
      " The saga begins before the Civil War with the Supreme Court’s infamous Dred Scott v. Sandford\n",
      "decision in 1857, which denied citizenship to people of African descent even if they were not\n",
      "enslaved.  “A free negro of the African race, whose ancestors were brought to this country and\n",
      "sold as slaves, is not a ‘citizen’ within the meaning of the Constitution of the United \n",
      "States,” the ruling held.\n",
      "\n",
      " After the war, the race-based Dred Scott theory of citizenship was overturned by the very \n",
      "first sentence of the 14th Amendment, ratified in 1868: “All persons born or naturalized in \n",
      "the United States, and subject to the jurisdiction thereof, are citizens of the United States \n",
      "and of the State wherein they reside.” The whole point was race: Black people born here have \n",
      "the same status, and the same rights, as White people.\n",
      "34\n",
      "\n",
      "\n",
      "The saga begins before the Civil War with the Supreme Court’s infamous Dred Scott v. Sandford\n",
      "decision in 1857, which denied citizenship to people of African descent even if they were not\n",
      "enslaved. \n",
      "The order plainly violates the Constitution and seeks to overturn crystal-clear Supreme Court\n",
      "precedent.  In those affirmations of the principle that anyone born in this country is \n",
      "automatically a citizen, race was the central issue — a fact that Trump and his advisers must\n",
      "know.  This history makes Trump’s order an act of performative racism that tells us, quite \n",
      "clearly, what kind of U.S.-born Americans he wants to exclude.\n",
      "\n",
      " The saga begins before the Civil War with the Supreme Court’s infamous Dred Scott v. Sandford\n",
      "decision in 1857, which denied citizenship to people of African descent even if they were not\n",
      "enslaved.  “A free negro of the African race, whose ancestors were brought to this country and\n",
      "sold as slaves, is not a ‘citizen’ within the meaning of the Constitution of the United \n",
      "States,” the ruling held.\n",
      "\n",
      " After the war, the race-based Dred Scott theory of citizenship was overturned by the very \n",
      "first sentence of the 14th Amendment, ratified in 1868: “All persons born or naturalized in \n",
      "the United States, and subject to the jurisdiction thereof, are citizens of the United States \n",
      "and of the State wherein they reside.” The whole point was race: Black people born here have \n",
      "the same status, and the same rights, as White people.\n",
      "46\n",
      "\n",
      "\n",
      "“A free negro of the African race, whose ancestors were brought to this country and\n",
      "sold as slaves, is not a ‘citizen’ within the meaning of the Constitution of the United \n",
      "States,” the ruling held.\n",
      "\n",
      "\n",
      "In those affirmations of the principle that anyone born in this country is \n",
      "automatically a citizen, race was the central issue — a fact that Trump and his advisers must\n",
      "know.  This history makes Trump’s order an act of performative racism that tells us, quite \n",
      "clearly, what kind of U.S.-born Americans he wants to exclude.\n",
      "\n",
      " The saga begins before the Civil War with the Supreme Court’s infamous Dred Scott v. Sandford\n",
      "decision in 1857, which denied citizenship to people of African descent even if they were not\n",
      "enslaved.  “A free negro of the African race, whose ancestors were brought to this country and\n",
      "sold as slaves, is not a ‘citizen’ within the meaning of the Constitution of the United \n",
      "States,” the ruling held.\n",
      "\n",
      " After the war, the race-based Dred Scott theory of citizenship was overturned by the very \n",
      "first sentence of the 14th Amendment, ratified in 1868: “All persons born or naturalized in \n",
      "the United States, and subject to the jurisdiction thereof, are citizens of the United States \n",
      "and of the State wherein they reside.” The whole point was race: Black people born here have \n",
      "the same status, and the same rights, as White people.\n",
      "44\n",
      "\n",
      "\n",
      "After the war, the race-based Dred Scott theory of citizenship was overturned by the very \n",
      "first sentence of the 14th Amendment, ratified in 1868: “All persons born or naturalized in \n",
      "the United States, and subject to the jurisdiction thereof, are citizens of the United States \n",
      "and of the State wherein they reside.” The whole point was race: Black people born here have \n",
      "the same status, and the same rights, as White people.\n",
      "This history makes Trump’s order an act of performative racism that tells us, quite \n",
      "clearly, what kind of U.S.-born Americans he wants to exclude.\n",
      "\n",
      " The saga begins before the Civil War with the Supreme Court’s infamous Dred Scott v. Sandford\n",
      "decision in 1857, which denied citizenship to people of African descent even if they were not\n",
      "enslaved.  “A free negro of the African race, whose ancestors were brought to this country and\n",
      "sold as slaves, is not a ‘citizen’ within the meaning of the Constitution of the United \n",
      "States,” the ruling held.\n",
      "\n",
      " After the war, the race-based Dred Scott theory of citizenship was overturned by the very \n",
      "first sentence of the 14th Amendment, ratified in 1868: “All persons born or naturalized in \n",
      "the United States, and subject to the jurisdiction thereof, are citizens of the United States \n",
      "and of the State wherein they reside.” The whole point was race: Black people born here have \n",
      "the same status, and the same rights, as White people.\n",
      "94\n",
      "\n",
      "\n"
     ]
    }
   ],
   "source": [
    "# just for lookin'\n",
    "\n",
    "print(\"N nodes: {}\\n\\n\".format(len(nodes)))\n",
    "\n",
    "# just for lookin'\n",
    "\n",
    "for node in nodes[:10]:\n",
    "    print(node.text)\n",
    "    print(node.metadata[\"window\"])\n",
    "    print(splitter._token_size(node.text))\n",
    "    print(\"\\n\")"
   ]
  },
  {
   "cell_type": "code",
   "execution_count": 37,
   "id": "049d67c9-5e59-4e39-9602-62829c4035d5",
   "metadata": {},
   "outputs": [
    {
     "data": {
      "text/plain": [
       "[True]"
      ]
     },
     "execution_count": 37,
     "metadata": {},
     "output_type": "execute_result"
    }
   ],
   "source": [
    "[hasattr(node, \"id_\") for node in documents]"
   ]
  },
  {
   "cell_type": "code",
   "execution_count": null,
   "id": "743c3743-5b59-418c-905a-9b7c2bcf0c1d",
   "metadata": {},
   "outputs": [],
   "source": []
  }
 ],
 "metadata": {
  "kernelspec": {
   "display_name": "meaningfully",
   "language": "python",
   "name": "meaningfully"
  },
  "language_info": {
   "codemirror_mode": {
    "name": "ipython",
    "version": 3
   },
   "file_extension": ".py",
   "mimetype": "text/x-python",
   "name": "python",
   "nbconvert_exporter": "python",
   "pygments_lexer": "ipython3",
   "version": "3.11.2"
  }
 },
 "nbformat": 4,
 "nbformat_minor": 5
}
